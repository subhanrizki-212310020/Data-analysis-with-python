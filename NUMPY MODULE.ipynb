{
 "cells": [
  {
   "cell_type": "markdown",
   "metadata": {},
   "source": [
    "# NUMPY MODULE"
   ]
  },
  {
   "cell_type": "markdown",
   "metadata": {},
   "source": [
    "# Lists vs Numpy"
   ]
  },
  {
   "cell_type": "markdown",
   "metadata": {},
   "source": [
    "1. Numpy are faster because it uses less bytes of memory than lists\n",
    "2. In Numpy no type checking is done while iterating through objects where\n",
    "    as in lists there is type checking.\n",
    "3. Numpy uses contagious memory to store numpy objects while lists use\n",
    "    randomly allocated memory. \n",
    "    NOTE : It is faster to read contagious memory  \n",
    "    \n",
    "   \n",
    "   - BENEFITS :\n",
    "\n",
    "    - SIMD(Single Instruction Multiple Data) Vector Processing\n",
    "         - We can use this to do multiple singly instructed operations\n",
    "            at one time. Like adding all of them at one time      \n",
    "    - Effective Cache Utilization (Faster memory lookups)"
   ]
  },
  {
   "cell_type": "markdown",
   "metadata": {},
   "source": [
    "## APPLICATIONS OF NumPy"
   ]
  },
  {
   "cell_type": "markdown",
   "metadata": {},
   "source": [
    "- Mathematics\n",
    "- Plotting (Matplotlib)\n",
    "- Backend (Pandas, Digital Photography)\n",
    "- Machine Learning"
   ]
  },
  {
   "cell_type": "code",
   "execution_count": 35,
   "metadata": {},
   "outputs": [],
   "source": [
    "import numpy as np"
   ]
  },
  {
   "cell_type": "markdown",
   "metadata": {},
   "source": [
    "### BASICS"
   ]
  },
  {
   "cell_type": "code",
   "execution_count": 36,
   "metadata": {},
   "outputs": [
    {
     "name": "stdout",
     "output_type": "stream",
     "text": [
      "1-D array [1 2 3]\n"
     ]
    }
   ],
   "source": [
    "# 1-D array \n",
    "# dtype : (Optional) We can specify int16, uint8, etc \n",
    "a = np.array([1,2,3], dtype='int16')\n",
    "print('1-D array', a)"
   ]
  },
  {
   "cell_type": "code",
   "execution_count": 37,
   "metadata": {},
   "outputs": [
    {
     "name": "stdout",
     "output_type": "stream",
     "text": [
      "2-D array :  [[1 2 3]\n",
      " [4 5 6]]\n"
     ]
    }
   ],
   "source": [
    "# 2-D array\n",
    "b = np.array([[1,2,3],[4,5,6]])\n",
    "print('2-D array : ', b)"
   ]
  },
  {
   "cell_type": "code",
   "execution_count": 38,
   "metadata": {},
   "outputs": [
    {
     "name": "stdout",
     "output_type": "stream",
     "text": [
      "Dimension of a:  1\n",
      "Dimension of b:  2\n"
     ]
    }
   ],
   "source": [
    "# get the dimension\n",
    "print('Dimension of a: ', a.ndim)\n",
    "print('Dimension of b: ', b.ndim)"
   ]
  },
  {
   "cell_type": "code",
   "execution_count": 39,
   "metadata": {},
   "outputs": [
    {
     "name": "stdout",
     "output_type": "stream",
     "text": [
      "(3,)\n",
      "(2, 3)\n"
     ]
    }
   ],
   "source": [
    "# Get Shape (row,col,...)\n",
    "print(a.shape)\n",
    "print(b.shape)"
   ]
  },
  {
   "cell_type": "code",
   "execution_count": 40,
   "metadata": {},
   "outputs": [
    {
     "name": "stdout",
     "output_type": "stream",
     "text": [
      "Data-type of a:  int16\n",
      "Data-type of b:  int32\n"
     ]
    }
   ],
   "source": [
    "# Get the type \n",
    "# int16 : 2 bytes\n",
    "# int32 : 4 bytes\n",
    "print('Data-type of a: ', a.dtype)\n",
    "print('Data-type of b: ', b.dtype)"
   ]
  },
  {
   "cell_type": "code",
   "execution_count": 41,
   "metadata": {},
   "outputs": [
    {
     "name": "stdout",
     "output_type": "stream",
     "text": [
      "Total elements in a:  3\n",
      "Total elements in b:  6\n"
     ]
    }
   ],
   "source": [
    "# Get the size  (Total elements)\n",
    "print('Total elements in a: ', a.size)\n",
    "print('Total elements in b: ', b.size)"
   ]
  },
  {
   "cell_type": "code",
   "execution_count": 42,
   "metadata": {},
   "outputs": [
    {
     "name": "stdout",
     "output_type": "stream",
     "text": [
      "Item size of a(in bytes):  2\n",
      "Item size of b(in bytes):  4\n"
     ]
    }
   ],
   "source": [
    "# Get the item size\n",
    "print('Item size of a(in bytes): ', a.itemsize)\n",
    "print('Item size of b(in bytes): ', b.itemsize)"
   ]
  },
  {
   "cell_type": "code",
   "execution_count": 43,
   "metadata": {},
   "outputs": [
    {
     "name": "stdout",
     "output_type": "stream",
     "text": [
      "Total size of a(in bytes):  6\n",
      "Total size of b(in bytes):  24\n"
     ]
    }
   ],
   "source": [
    "# Getting total size in bytes\n",
    "print('Total size of a(in bytes): ', a.size*a.itemsize)\n",
    "print('Total size of b(in bytes): ', b.size*b.itemsize)"
   ]
  },
  {
   "cell_type": "code",
   "execution_count": 44,
   "metadata": {},
   "outputs": [
    {
     "name": "stdout",
     "output_type": "stream",
     "text": [
      "[10 11 12 13 14 15 16 17 18 19 20 21 22 23 24 25 26 27 28 29 30 31 32 33\n",
      " 34 35 36 37 38 39 40 41 42 43 44 45 46 47 48 49 50]\n"
     ]
    }
   ],
   "source": [
    "# generate an array of numbers form 10 to  50\n",
    "print(np.arange(10,51))"
   ]
  },
  {
   "cell_type": "markdown",
   "metadata": {},
   "source": [
    "## ACCESSING/CHANGING SPECIFIC ELEMENTS, ROWS, COLUMNS, ETC."
   ]
  },
  {
   "cell_type": "code",
   "execution_count": 45,
   "metadata": {},
   "outputs": [
    {
     "name": "stdout",
     "output_type": "stream",
     "text": [
      "[[ 1  2  3  4  5  6  7]\n",
      " [ 8  9 10 11 12 13 14]]\n"
     ]
    }
   ],
   "source": [
    "a = np.array([[1,2,3,4,5,6,7],[8,9,10,11,12,13,14]])\n",
    "print(a)"
   ]
  },
  {
   "cell_type": "code",
   "execution_count": 46,
   "metadata": {},
   "outputs": [
    {
     "name": "stdout",
     "output_type": "stream",
     "text": [
      "2\n",
      "9\n"
     ]
    }
   ],
   "source": [
    "# accessing element \n",
    "# SYNTAX : [row_index, col_index]\n",
    "print(a[0,1]) # 2\n",
    "print(a[1,1]) # 9"
   ]
  },
  {
   "cell_type": "markdown",
   "metadata": {},
   "source": [
    "- Array slicing technique can be used to get selective elements"
   ]
  },
  {
   "cell_type": "code",
   "execution_count": 47,
   "metadata": {},
   "outputs": [
    {
     "name": "stdout",
     "output_type": "stream",
     "text": [
      "[1 2 3 4 5 6 7]\n"
     ]
    }
   ],
   "source": [
    "# Get a specific row\n",
    "# print row-0 and all elements\n",
    "print(a[0, :]) "
   ]
  },
  {
   "cell_type": "code",
   "execution_count": 48,
   "metadata": {},
   "outputs": [
    {
     "name": "stdout",
     "output_type": "stream",
     "text": [
      "[ 4 11]\n"
     ]
    }
   ],
   "source": [
    "# get a specific column \n",
    "# print col-3 and all elements\n",
    "print(a[:,3])"
   ]
  },
  {
   "cell_type": "code",
   "execution_count": 49,
   "metadata": {},
   "outputs": [
    {
     "name": "stdout",
     "output_type": "stream",
     "text": [
      "[10 11 12 13 14]\n"
     ]
    }
   ],
   "source": [
    "# getting a set of elements from index 2-6 of row 1\n",
    "print(a[1,2:7])"
   ]
  },
  {
   "cell_type": "markdown",
   "metadata": {},
   "source": [
    "- CHANGING ARRAY ELEMENTS :-"
   ]
  },
  {
   "cell_type": "code",
   "execution_count": 50,
   "metadata": {},
   "outputs": [
    {
     "name": "stdout",
     "output_type": "stream",
     "text": [
      "Array a:  [[ 1  2  3  4  5  6  7]\n",
      " [ 8  9 10 23 12 13 14]]\n"
     ]
    }
   ],
   "source": [
    "# change element at row_index = 1, col_index = 3 to 23\n",
    "a[1,3] = 23\n",
    "print('Array a: ', a)"
   ]
  },
  {
   "cell_type": "code",
   "execution_count": 51,
   "metadata": {},
   "outputs": [
    {
     "name": "stdout",
     "output_type": "stream",
     "text": [
      "[[[1 2]\n",
      "  [4 6]]\n",
      "\n",
      " [[5 6]\n",
      "  [4 6]]]\n"
     ]
    }
   ],
   "source": [
    "# 3-d array \n",
    "b = np.array([[[1,2],[4,6]],[[5,6],[4,6]]])\n",
    "print(b)"
   ]
  },
  {
   "cell_type": "code",
   "execution_count": 52,
   "metadata": {},
   "outputs": [
    {
     "name": "stdout",
     "output_type": "stream",
     "text": [
      "6\n"
     ]
    }
   ],
   "source": [
    "# Getting the specific element (Work outside in)\n",
    "print(b[0,1,1])"
   ]
  },
  {
   "cell_type": "code",
   "execution_count": 53,
   "metadata": {},
   "outputs": [
    {
     "name": "stdout",
     "output_type": "stream",
     "text": [
      "Before:\n",
      " [[[1 2]\n",
      "  [4 6]]\n",
      "\n",
      " [[5 6]\n",
      "  [4 6]]]\n",
      "\n",
      "After: \n",
      " [[[1 2]\n",
      "  [8 9]]\n",
      "\n",
      " [[5 6]\n",
      "  [8 9]]]\n"
     ]
    }
   ],
   "source": [
    "# replace \n",
    "print('Before:\\n', b, end='\\n\\n')\n",
    "b[:,1,:] = [8, 9]\n",
    "print('After: \\n', b)"
   ]
  },
  {
   "cell_type": "markdown",
   "metadata": {},
   "source": [
    "## INITIALISING DIFFERENT TYPES OF ARRAYS"
   ]
  },
  {
   "cell_type": "code",
   "execution_count": 54,
   "metadata": {},
   "outputs": [
    {
     "name": "stdout",
     "output_type": "stream",
     "text": [
      "[[0. 0. 0.]\n",
      " [0. 0. 0.]]\n"
     ]
    }
   ],
   "source": [
    "# All 0s matrix of 2*3 size\n",
    "print(np.zeros((2,3)))"
   ]
  },
  {
   "cell_type": "code",
   "execution_count": 55,
   "metadata": {},
   "outputs": [
    {
     "name": "stdout",
     "output_type": "stream",
     "text": [
      "[[1 1 1 1 1]\n",
      " [1 1 1 1 1]\n",
      " [1 1 1 1 1]\n",
      " [1 1 1 1 1]]\n"
     ]
    }
   ],
   "source": [
    "# All 1s matrix of 4*5 size and of dtype = 'int16'\n",
    "print(np.ones((4,5), dtype='int16'))"
   ]
  },
  {
   "cell_type": "code",
   "execution_count": 56,
   "metadata": {},
   "outputs": [
    {
     "name": "stdout",
     "output_type": "stream",
     "text": [
      "[[55. 55. 55. 55. 55.]\n",
      " [55. 55. 55. 55. 55.]\n",
      " [55. 55. 55. 55. 55.]]\n"
     ]
    }
   ],
   "source": [
    "# Fill array with particular number using full()\n",
    "# ________________________________________________________________\n",
    "# Fill 3*5 matrix with number = 55 of dtype='float32'\n",
    "print(np.full((3,5), 55, dtype='float32'))"
   ]
  },
  {
   "cell_type": "code",
   "execution_count": 57,
   "metadata": {},
   "outputs": [
    {
     "name": "stdout",
     "output_type": "stream",
     "text": [
      "[[[46 46]\n",
      "  [46 46]]\n",
      "\n",
      " [[46 46]\n",
      "  [46 46]]]\n"
     ]
    }
   ],
   "source": [
    "# Fill array with particular number using full_like(previosly_declared_array, value)\n",
    "# ____________________________________________________________________________________\n",
    "print(np.full_like(b,46, dtype='int8'))"
   ]
  },
  {
   "cell_type": "markdown",
   "metadata": {},
   "source": [
    "### RANDOM NUMBERS"
   ]
  },
  {
   "cell_type": "code",
   "execution_count": 58,
   "metadata": {},
   "outputs": [
    {
     "name": "stdout",
     "output_type": "stream",
     "text": [
      "[[0.36783442 0.52479005 0.97990026]\n",
      " [0.98268119 0.16238094 0.49623041]]\n"
     ]
    }
   ],
   "source": [
    "# FLOAT RANDOM NUMBERS :\n",
    "# __________________________________________________________________________________________________________\n",
    "# filling array with random numbers using rand(row_size, col_size,...) of random class\n",
    "print(np.random.rand(2,3))"
   ]
  },
  {
   "cell_type": "code",
   "execution_count": 59,
   "metadata": {},
   "outputs": [
    {
     "name": "stdout",
     "output_type": "stream",
     "text": [
      "[[-1  0  0]\n",
      " [ 2  1  1]]\n"
     ]
    }
   ],
   "source": [
    "# INTEGER RADOM NUMBERS randint(start, end(exclusive), size=())\n",
    "# __________________________________________________________________________________________________________\n",
    "print(np.random.randint(-1,3, size=(2,3)))"
   ]
  },
  {
   "cell_type": "code",
   "execution_count": 60,
   "metadata": {},
   "outputs": [
    {
     "name": "stdout",
     "output_type": "stream",
     "text": [
      "[[1 0 0]\n",
      " [0 1 0]\n",
      " [0 0 1]]\n"
     ]
    }
   ],
   "source": [
    "# IDENTITY MATRIX : indentity(row_size or col_size, dtype(optional))\n",
    "# ________________________________________________________________________________________________________\n",
    "print(np.identity(3, dtype='int16'))"
   ]
  },
  {
   "cell_type": "code",
   "execution_count": 61,
   "metadata": {},
   "outputs": [
    {
     "name": "stdout",
     "output_type": "stream",
     "text": [
      "[[1 2 3]\n",
      " [1 2 3]\n",
      " [1 2 3]]\n"
     ]
    }
   ],
   "source": [
    "# Repeat an array\n",
    "arr = np.array([[1,2,3]])\n",
    "r1 = np.repeat(arr, 3, axis=0) # Since arr is a 2-D array we can have axis=0 OR axis=1\n",
    "print(r1)"
   ]
  },
  {
   "cell_type": "code",
   "execution_count": 62,
   "metadata": {},
   "outputs": [
    {
     "name": "stdout",
     "output_type": "stream",
     "text": [
      "[[ 1  1  1  1  1  1  1  1  1  1  1]\n",
      " [ 1  0  0  0  0  0  0  0  0  0  1]\n",
      " [ 1  0  0  0  0  0  0  0  0  0  1]\n",
      " [ 1  0  0  0  0  0  0  0  0  0  1]\n",
      " [ 1  0  0  0  0  0  0  0  0  0  1]\n",
      " [ 1  0  0  0  0 99  0  0  0  0  1]\n",
      " [ 1  0  0  0  0  0  0  0  0  0  1]\n",
      " [ 1  0  0  0  0  0  0  0  0  0  1]\n",
      " [ 1  0  0  0  0  0  0  0  0  0  1]\n",
      " [ 1  0  0  0  0  0  0  0  0  0  1]\n",
      " [ 1  1  1  1  1  1  1  1  1  1  1]]\n"
     ]
    }
   ],
   "source": [
    "# EXERCISE :\n",
    "# ___________________________________________________________________________________________________________\n",
    "\n",
    "# print a square matrix of odd size  where all outer elements = 1 , middle element = 99 and rest are = 0s\n",
    "size = 11\n",
    "\n",
    "# STEP-1: Initialise all with 1\n",
    "output = np.ones((size, size), dtype='int8')\n",
    "\n",
    "# STEP-2: Make all other elements = 0\n",
    "for i in range(1, size-1):\n",
    "    output[i, 1:size-1] = [0 for _ in range(size-2)]\n",
    "\n",
    "# STEP-3: Make middle element = 99\n",
    "output[size//2, size//2] = 99\n",
    "\n",
    "print(output)"
   ]
  },
  {
   "cell_type": "markdown",
   "metadata": {},
   "source": [
    "### COPY AN ARRAY"
   ]
  },
  {
   "cell_type": "code",
   "execution_count": 63,
   "metadata": {},
   "outputs": [
    {
     "name": "stdout",
     "output_type": "stream",
     "text": [
      "[1 2 3]\n",
      "[89  2  3]\n"
     ]
    }
   ],
   "source": [
    "# Using copy()\n",
    "a = np.array([1,2,3])\n",
    "b = a.copy()\n",
    "\n",
    "b[0] = 89\n",
    "print(a)\n",
    "print(b)"
   ]
  },
  {
   "cell_type": "markdown",
   "metadata": {},
   "source": [
    "### MATHEMATICS :"
   ]
  },
  {
   "cell_type": "code",
   "execution_count": 64,
   "metadata": {},
   "outputs": [
    {
     "name": "stdout",
     "output_type": "stream",
     "text": [
      "[3 4 5 6 7]\n",
      "[-1  0  1  2  3]\n",
      "[ 2  4  6  8 10]\n",
      "[0.5 1.  1.5 2.  2.5]\n",
      "[ 1  4  9 16 25]\n",
      "[0 1 1 2 2]\n",
      "[1 0 1 0 1]\n",
      "[ 0.84147098  0.90929743  0.14112001 -0.7568025  -0.95892427]\n",
      "[ 0.54030231 -0.41614684 -0.9899925  -0.65364362  0.28366219]\n"
     ]
    }
   ],
   "source": [
    "# add, sub, mul, div, etc. 2 to  all elements  \n",
    "arr =np.array([1,2,3,4,5])\n",
    "\n",
    "print(arr+2)\n",
    "print(arr-2)\n",
    "print(arr*2)  \n",
    "print(arr/2)\n",
    "print(arr**2)   # square\n",
    "print(arr//2)   # int division\n",
    "print(arr%2)\n",
    "print(np.sin(arr))  # Take sine of all elements in arr\n",
    "print(np.cos(arr))  # Take cosine of all the elements in arr "
   ]
  },
  {
   "cell_type": "code",
   "execution_count": 65,
   "metadata": {},
   "outputs": [
    {
     "name": "stdout",
     "output_type": "stream",
     "text": [
      "[ 6  8 10 12]\n",
      "[-4 -4 -4 -4]\n",
      "[ 5 12 21 32]\n",
      "[    1    64  2187 65536]\n"
     ]
    }
   ],
   "source": [
    "# Adding,subtracting,... common positioned values of two arrays\n",
    "arr1 = np.array([1,2,3,4])\n",
    "arr2 = np.array([5,6,7,8])\n",
    "print(arr1+arr2)\n",
    "print(arr1-arr2)\n",
    "print(arr1*arr2)\n",
    "print(arr1**arr2)"
   ]
  },
  {
   "cell_type": "markdown",
   "metadata": {},
   "source": [
    "## LINEAR ALGEBRA"
   ]
  },
  {
   "cell_type": "code",
   "execution_count": 66,
   "metadata": {},
   "outputs": [
    {
     "name": "stdout",
     "output_type": "stream",
     "text": [
      "matrix-1:\n",
      " [[1. 1. 1.]\n",
      " [1. 1. 1.]]\n",
      "matrix-2:\n",
      " [[4 4]\n",
      " [4 4]\n",
      " [4 4]]\n",
      "result: [[12. 12.]\n",
      " [12. 12.]]\n"
     ]
    }
   ],
   "source": [
    "# MATRIX MULTIPLICATION : matmul()\n",
    "mat1 = np.ones((2,3))\n",
    "mat2 = np.full((3,2), 4)\n",
    "\n",
    "print('matrix-1:\\n', mat1)\n",
    "print('matrix-2:\\n', mat2)\n",
    "print('result:', np.matmul(mat1,mat2))"
   ]
  },
  {
   "cell_type": "code",
   "execution_count": 67,
   "metadata": {},
   "outputs": [
    {
     "name": "stdout",
     "output_type": "stream",
     "text": [
      "1.0\n"
     ]
    }
   ],
   "source": [
    "# Getting determinant of a square matrix\n",
    "mat = np.identity(3)\n",
    "print(np.linalg.det(mat))  # linalg = linear Algebra"
   ]
  },
  {
   "cell_type": "markdown",
   "metadata": {},
   "source": [
    "### STATISTICS"
   ]
  },
  {
   "cell_type": "code",
   "execution_count": 68,
   "metadata": {},
   "outputs": [
    {
     "name": "stdout",
     "output_type": "stream",
     "text": [
      "Min of row-2:  4\n",
      "Min of all:  1\n"
     ]
    }
   ],
   "source": [
    "# GETTING MIN\n",
    "stats = np.array([[1,2,3],[4,5,6]])\n",
    "\n",
    "# get min of second row\n",
    "print('Min of row-2: ', np.min(stats[1,:]))\n",
    "\n",
    "# get min of all\n",
    "print('Min of all: ', np.min(stats))"
   ]
  },
  {
   "cell_type": "code",
   "execution_count": 69,
   "metadata": {},
   "outputs": [
    {
     "name": "stdout",
     "output_type": "stream",
     "text": [
      "Max of row-1:  3\n",
      "Max of all:  6\n"
     ]
    }
   ],
   "source": [
    "# GETTING MAX :\n",
    "\n",
    "print('Max of row-1: ', np.max(stats[0,:]))\n",
    "print('Max of all: ', np.max(stats))"
   ]
  },
  {
   "cell_type": "code",
   "execution_count": 70,
   "metadata": {},
   "outputs": [
    {
     "name": "stdout",
     "output_type": "stream",
     "text": [
      "Sum of all elements:  21\n",
      "Sum of elements in row-1:  6\n"
     ]
    }
   ],
   "source": [
    "# GETTING SUM\n",
    "print('Sum of all elements: ', np.sum(stats))\n",
    "print('Sum of elements in row-1: ', np.sum(stats[0,:]))"
   ]
  },
  {
   "cell_type": "markdown",
   "metadata": {},
   "source": [
    "### REORGANISING ARRAY"
   ]
  },
  {
   "cell_type": "code",
   "execution_count": 71,
   "metadata": {},
   "outputs": [
    {
     "name": "stdout",
     "output_type": "stream",
     "text": [
      "Before:\n",
      " [[1 2 3]\n",
      " [4 5 6]]\n",
      "\n",
      "Before:\n",
      " [[1 2]\n",
      " [3 4]\n",
      " [5 6]]\n"
     ]
    }
   ],
   "source": [
    "# RESHAPE ARRAY \n",
    "before = np.array([[1,2,3],[4,5,6]])\n",
    "print('Before:\\n', before, end='\\n\\n')\n",
    "\n",
    "after = before.reshape((3,2))\n",
    "print('Before:\\n', after)"
   ]
  },
  {
   "cell_type": "code",
   "execution_count": 72,
   "metadata": {},
   "outputs": [
    {
     "name": "stdout",
     "output_type": "stream",
     "text": [
      "[[1 2 3]\n",
      " [4 5 6]\n",
      " [1 2 3]\n",
      " [4 5 6]]\n"
     ]
    }
   ],
   "source": [
    "# VERTICAL STACKING OF ARRAYS\n",
    "arr1 = np.array([1,2,3])\n",
    "arr2 = np.array([4,5,6])\n",
    "\n",
    "print(np.vstack([arr1,arr2,arr1,arr2]))"
   ]
  },
  {
   "cell_type": "code",
   "execution_count": 73,
   "metadata": {},
   "outputs": [
    {
     "name": "stdout",
     "output_type": "stream",
     "text": [
      "[1 2 3 4 5 6 1 2 3 4 5 6]\n"
     ]
    }
   ],
   "source": [
    "# HORIZONTAL STACKING OF ARRAYS\n",
    "arr1 = np.array([1,2,3])\n",
    "arr2 = np.array([4,5,6])\n",
    "\n",
    "print(np.hstack([arr1,arr2,arr1,arr2]))"
   ]
  },
  {
   "cell_type": "markdown",
   "metadata": {},
   "source": [
    "### MISCELLANEOUS"
   ]
  },
  {
   "cell_type": "code",
   "execution_count": 74,
   "metadata": {},
   "outputs": [
    {
     "name": "stdout",
     "output_type": "stream",
     "text": [
      "[[  1  13  21  11 196  75   4   3  34   6   7   8   0   1   2   3   4   5]\n",
      " [  3  42  12  33 766  75   4  55   6   4   3   4   5   6   7   0  11  12]\n",
      " [  1  22  33  11 999  11   2   1  78   0   1   2   9   8   7   1  76  88]]\n"
     ]
    }
   ],
   "source": [
    "# loading data from text file\n",
    "file_data = np.genfromtxt('data.txt', delimiter=',')\n",
    "file_data = file_data.astype('int16')  # to convert it to type int16\n",
    "print(file_data)"
   ]
  },
  {
   "cell_type": "markdown",
   "metadata": {},
   "source": [
    "### BOOLEAN MASKING AND ADVANCED MASKING"
   ]
  },
  {
   "cell_type": "code",
   "execution_count": 75,
   "metadata": {},
   "outputs": [
    {
     "name": "stdout",
     "output_type": "stream",
     "text": [
      "[196  75 766  75  55 999  78  76  88]\n"
     ]
    }
   ],
   "source": [
    "# print elements >= 50\n",
    "print(file_data[file_data >= 50])"
   ]
  },
  {
   "cell_type": "code",
   "execution_count": 76,
   "metadata": {},
   "outputs": [
    {
     "name": "stdout",
     "output_type": "stream",
     "text": [
      "[ 1  6 10]\n"
     ]
    }
   ],
   "source": [
    "# Getting a list of elements present at list of indexes\n",
    "a = np.array([1,2,3,4,5,6,7,8,9,10])\n",
    "print(a[[0,5,9]])  # get the elements at indexes = {0, 5, 9}"
   ]
  },
  {
   "cell_type": "code",
   "execution_count": 77,
   "metadata": {},
   "outputs": [
    {
     "name": "stdout",
     "output_type": "stream",
     "text": [
      "[False False False False  True  True False  True  True False False False\n",
      " False False False False  True  True]\n"
     ]
    }
   ],
   "source": [
    "# any()\n",
    "# Getting a list of boolean values whether a column contain any element >= 50\n",
    "print(np.any(file_data >= 50, axis=0))"
   ]
  },
  {
   "cell_type": "code",
   "execution_count": 78,
   "metadata": {},
   "outputs": [
    {
     "name": "stdout",
     "output_type": "stream",
     "text": [
      "[False False False False  True False False False False False False False\n",
      " False False False False False False]\n"
     ]
    }
   ],
   "source": [
    "# all()\n",
    "# Getting a list of boolean values whether a column contain all element >= 50\n",
    "print(np.all(file_data >= 50, axis=0))"
   ]
  },
  {
   "cell_type": "code",
   "execution_count": 79,
   "metadata": {},
   "outputs": [
    {
     "name": "stdout",
     "output_type": "stream",
     "text": [
      "[75 75 55 78 76 88]\n"
     ]
    }
   ],
   "source": [
    "# getting all the values >= 50 and <= 100\n",
    "print(file_data[(file_data >= 50) & (file_data <= 100)])"
   ]
  },
  {
   "cell_type": "code",
   "execution_count": 80,
   "metadata": {},
   "outputs": [
    {
     "name": "stdout",
     "output_type": "stream",
     "text": [
      "[  1  13  21  11 196   4   3  34   6   7   8   0   1   2   3   4   5   3\n",
      "  42  12  33 766   4   6   4   3   4   5   6   7   0  11  12   1  22  33\n",
      "  11 999  11   2   1   0   1   2   9   8   7   1]\n"
     ]
    }
   ],
   "source": [
    "# getting all the values which are not in range(50, 100)\n",
    "print(file_data[~((file_data >= 50) & (file_data <= 100))])"
   ]
  },
  {
   "cell_type": "markdown",
   "metadata": {},
   "source": [
    "###  EXERCISE "
   ]
  },
  {
   "cell_type": "code",
   "execution_count": 81,
   "metadata": {},
   "outputs": [
    {
     "name": "stdout",
     "output_type": "stream",
     "text": [
      "[1 5 9]\n"
     ]
    }
   ],
   "source": [
    "# GET THE DIAGONAL ELEMENTS OF A SQUARE  MATRIX\n",
    "square_matrix = np.array([[1,2,3],[4,5,6],[7,8,9]])\n",
    "\n",
    "print(square_matrix[[0,1,2],[0,1,2]]) # getting [1,5,9]"
   ]
  },
  {
   "cell_type": "code",
   "execution_count": 82,
   "metadata": {},
   "outputs": [
    {
     "name": "stdout",
     "output_type": "stream",
     "text": [
      "[[2 3]\n",
      " [8 9]]\n"
     ]
    }
   ],
   "source": [
    "# get the last two elements of first and last row\n",
    "print(square_matrix[[0,2],-2:])"
   ]
  }
 ],
 "metadata": {
  "kernelspec": {
   "display_name": "Python 3",
   "language": "python",
   "name": "python3"
  },
  "language_info": {
   "codemirror_mode": {
    "name": "ipython",
    "version": 3
   },
   "file_extension": ".py",
   "mimetype": "text/x-python",
   "name": "python",
   "nbconvert_exporter": "python",
   "pygments_lexer": "ipython3",
   "version": "3.7.6"
  }
 },
 "nbformat": 4,
 "nbformat_minor": 4
}

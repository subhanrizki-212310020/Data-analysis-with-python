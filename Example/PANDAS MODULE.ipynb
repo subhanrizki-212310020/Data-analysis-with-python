{
 "cells": [
  {
   "cell_type": "markdown",
   "metadata": {},
   "source": [
    "## LOADING DATAS IN PANDAS"
   ]
  },
  {
   "cell_type": "code",
   "execution_count": 163,
   "metadata": {},
   "outputs": [],
   "source": [
    "import pandas as pd"
   ]
  },
  {
   "cell_type": "markdown",
   "metadata": {},
   "source": [
    "### Load CSV file "
   ]
  },
  {
   "cell_type": "code",
   "execution_count": 164,
   "metadata": {},
   "outputs": [],
   "source": [
    "data_frame = pd.read_csv('pokemon_data.csv')\n",
    "\n",
    "# print(data_frame)"
   ]
  },
  {
   "cell_type": "code",
   "execution_count": 165,
   "metadata": {},
   "outputs": [
    {
     "name": "stdout",
     "output_type": "stream",
     "text": [
      "   #       Name Type 1  Type 2  HP  Attack  Defense  Sp. Atk  Sp. Def  Speed  \\\n",
      "0  1  Bulbasaur  Grass  Poison  45      49       49       65       65     45   \n",
      "1  2    Ivysaur  Grass  Poison  60      62       63       80       80     60   \n",
      "\n",
      "   Generation  Legendary  \n",
      "0           1      False  \n",
      "1           1      False  \n"
     ]
    }
   ],
   "source": [
    "# head()\n",
    "# _________________________________________\n",
    "# print(data_frame.head())  # Top 5 rows\n",
    "print(data_frame.head(2)) # Top 2 rows "
   ]
  },
  {
   "cell_type": "code",
   "execution_count": 166,
   "metadata": {},
   "outputs": [
    {
     "name": "stdout",
     "output_type": "stream",
     "text": [
      "       #                Name   Type 1 Type 2  HP  Attack  Defense  Sp. Atk  \\\n",
      "798  720  HoopaHoopa Unbound  Psychic   Dark  80     160       60      170   \n",
      "799  721           Volcanion     Fire  Water  80     110      120      130   \n",
      "\n",
      "     Sp. Def  Speed  Generation  Legendary  \n",
      "798      130     80           6       True  \n",
      "799       90     70           6       True  \n"
     ]
    }
   ],
   "source": [
    "# tail()\n",
    "# ____________________________________________\n",
    "# print(data_frame.tail()) #  bottom 5 rows\n",
    "print(data_frame.tail(2)) # bottom 2 rows"
   ]
  },
  {
   "cell_type": "markdown",
   "metadata": {},
   "source": [
    "### Load excel file :"
   ]
  },
  {
   "cell_type": "code",
   "execution_count": 167,
   "metadata": {},
   "outputs": [
    {
     "name": "stdout",
     "output_type": "stream",
     "text": [
      "   #       Name Type 1  Type 2  HP  Attack  Defense  Sp. Atk  Sp. Def  Speed  \\\n",
      "0  1  Bulbasaur  Grass  Poison  45      49       49       65       65     45   \n",
      "1  2    Ivysaur  Grass  Poison  60      62       63       80       80     60   \n",
      "\n",
      "   Generation  Legendary  \n",
      "0           1      False  \n",
      "1           1      False  \n"
     ]
    }
   ],
   "source": [
    "data_frame_xlsx = pd.read_excel('pokemon_data.xlsx')\n",
    "print(data_frame_xlsx.head(2))"
   ]
  },
  {
   "cell_type": "markdown",
   "metadata": {},
   "source": [
    "### Reading tab separated file "
   ]
  },
  {
   "cell_type": "code",
   "execution_count": 168,
   "metadata": {},
   "outputs": [
    {
     "name": "stdout",
     "output_type": "stream",
     "text": [
      "   #       Name Type 1  Type 2  HP  Attack  Defense  Sp. Atk  Sp. Def  Speed  \\\n",
      "0  1  Bulbasaur  Grass  Poison  45      49       49       65       65     45   \n",
      "1  2    Ivysaur  Grass  Poison  60      62       63       80       80     60   \n",
      "\n",
      "   Generation  Legendary  \n",
      "0           1      False  \n",
      "1           1      False  \n"
     ]
    }
   ],
   "source": [
    "data_frame_tab_sep = pd.read_csv('pokemon_data.txt', delimiter='\\t')\n",
    "print(data_frame_tab_sep.head(2))"
   ]
  },
  {
   "cell_type": "markdown",
   "metadata": {},
   "source": [
    "### READING DATAS IN PANDAS"
   ]
  },
  {
   "cell_type": "code",
   "execution_count": 169,
   "metadata": {},
   "outputs": [
    {
     "name": "stdout",
     "output_type": "stream",
     "text": [
      "Index(['#', 'Name', 'Type 1', 'Type 2', 'HP', 'Attack', 'Defense', 'Sp. Atk',\n",
      "       'Sp. Def', 'Speed', 'Generation', 'Legendary'],\n",
      "      dtype='object')\n"
     ]
    }
   ],
   "source": [
    "# READING HEADERS\n",
    "# __________________________\n",
    "print(data_frame.columns)"
   ]
  },
  {
   "cell_type": "code",
   "execution_count": 170,
   "metadata": {},
   "outputs": [
    {
     "name": "stdout",
     "output_type": "stream",
     "text": [
      "        Name Type 1  Type 2\n",
      "0  Bulbasaur  Grass  Poison\n",
      "1    Ivysaur  Grass  Poison\n"
     ]
    }
   ],
   "source": [
    "# READING SPECIFIC COLUMN\n",
    "# _____________________________\n",
    "# print(data_frame.Name)\n",
    "\n",
    "# print rows containing columns 'Name', 'Type 1'\n",
    "# print(data_frame[['Name', 'Type 1']])\n",
    "\n",
    "# print top 2 rows of 'Name', 'Type 1' and 'Type 2'\n",
    "print(data_frame[['Name', 'Type 1', 'Type 2']].head(2))"
   ]
  },
  {
   "cell_type": "code",
   "execution_count": 171,
   "metadata": {},
   "outputs": [
    {
     "name": "stdout",
     "output_type": "stream",
     "text": [
      "   #        Name Type 1 Type 2  HP  Attack  Defense  Sp. Atk  Sp. Def  Speed  \\\n",
      "4  4  Charmander   Fire    NaN  39      52       43       60       50     65   \n",
      "5  5  Charmeleon   Fire    NaN  58      64       58       80       65     80   \n",
      "\n",
      "   Generation  Legendary  \n",
      "4           1      False  \n",
      "5           1      False  \n"
     ]
    }
   ],
   "source": [
    "# READING SPECIFIC ROW\n",
    "# __________________________________________________\n",
    "#   (iloc() -> Integer Location)\n",
    "# print(data_frame.iloc[0:2]) # prints 0-1 indexed rows\n",
    "\n",
    "# Print index and name of each rows\n",
    "# for index, row in data_frame.iterrows():\n",
    "#     print(index, row['Name'])\n",
    "   \n",
    "# loc() \n",
    "# print top 2 rows where 'Type 1' = 'Fire'\n",
    "print(data_frame.loc[data_frame['Type 1'] == 'Fire'].head(2))"
   ]
  },
  {
   "cell_type": "code",
   "execution_count": 172,
   "metadata": {},
   "outputs": [
    {
     "name": "stdout",
     "output_type": "stream",
     "text": [
      "45\n"
     ]
    }
   ],
   "source": [
    "# READING SPECIFIC LOCATION (R,C)\n",
    "print(data_frame.iloc[0,4])  # returns value at row_index = 0, and col_index = 4"
   ]
  },
  {
   "cell_type": "markdown",
   "metadata": {},
   "source": [
    "## SORTING/DESCRIBING DATA"
   ]
  },
  {
   "cell_type": "code",
   "execution_count": 173,
   "metadata": {},
   "outputs": [
    {
     "name": "stdout",
     "output_type": "stream",
     "text": [
      "count    800.000000\n",
      "mean      68.277500\n",
      "std       29.060474\n",
      "min        5.000000\n",
      "25%       45.000000\n",
      "50%       65.000000\n",
      "75%       90.000000\n",
      "max      180.000000\n",
      "Name: Speed, dtype: float64\n"
     ]
    }
   ],
   "source": [
    "# Gives us the basic statistics of the data  : describe()\n",
    "# __________________________________________________\n",
    "#  print(data_frame.describe())\n",
    "print(data_frame.describe().Speed) # prints stats of Speed"
   ]
  },
  {
   "cell_type": "code",
   "execution_count": 174,
   "metadata": {},
   "outputs": [
    {
     "name": "stdout",
     "output_type": "stream",
     "text": [
      "       #     Name Type 1  Type 2  HP  Attack  Defense  Sp. Atk  Sp. Def  \\\n",
      "209  194   Wooper  Water  Ground  55      45       45       25       25   \n",
      "301  278  Wingull  Water  Flying  40      30       30       55       30   \n",
      "\n",
      "     Speed  Generation  Legendary  \n",
      "209     15           2      False  \n",
      "301     85           3      False  \n",
      "\n",
      "\n",
      "       #     Name Type 1  Type 2  HP  Attack  Defense  Sp. Atk  Sp. Def  \\\n",
      "520  469  Yanmega    Bug  Flying  86      76       86      116       56   \n",
      "208  193    Yanma    Bug  Flying  65      65       45       75       45   \n",
      "\n",
      "     Speed  Generation  Legendary  \n",
      "520     95           4      False  \n",
      "208     95           2      False  \n"
     ]
    }
   ],
   "source": [
    "# SORTING : sort_values()\n",
    "# ____________________________________________________\n",
    "\n",
    "# Get top 2 sorted rows first by 'Type 1' then by 'Name' in descending order\n",
    "print(data_frame.sort_values(['Type 1', 'Name'], ascending=False).head(2))\n",
    "\n",
    "print(end='\\n\\n')\n",
    "\n",
    "# Get sorted rows first by Name(ascending) and the 'Type 1'(desending)\n",
    "print(data_frame.sort_values(['Type 1', 'Name'], ascending=[1,0]).head(2))"
   ]
  },
  {
   "cell_type": "markdown",
   "metadata": {},
   "source": [
    "### MAKING CHANGES TO DATA"
   ]
  },
  {
   "cell_type": "code",
   "execution_count": 175,
   "metadata": {},
   "outputs": [],
   "source": [
    "# ADDING COLUMN\n",
    "# _____________________\n",
    "# Add a column 'Total' \n",
    "data_frame['Total'] = data_frame['HP'] + data_frame['Attack'] + data_frame['Defense'] + data_frame['Sp. Atk'] + data_frame['Sp. Def'] + data_frame['Speed']\n",
    "    \n",
    "# DROPPING A COLUMN\n",
    "data_frame = data_frame.drop(columns=['Total'])\n",
    "\n",
    "# Add a column 'Total' (Another way using iloc)\n",
    "# axis=1 (Add horizontally), 2(Add Vertically)\n",
    "data_frame['Total'] =  data_frame.iloc[:, 4:10].sum(axis=1) "
   ]
  },
  {
   "cell_type": "code",
   "execution_count": 176,
   "metadata": {},
   "outputs": [
    {
     "name": "stdout",
     "output_type": "stream",
     "text": [
      "   #       Name Type 1  Type 2  Total  Speed  HP  Attack  Defense  Sp. Atk  \\\n",
      "0  1  Bulbasaur  Grass  Poison    318     45  45      49       49       65   \n",
      "1  2    Ivysaur  Grass  Poison    405     60  60      62       63       80   \n",
      "2  3   Venusaur  Grass  Poison    525     80  80      82       83      100   \n",
      "\n",
      "   Sp. Def  Generation  Legendary  \n",
      "0       65           1      False  \n",
      "1       80           1      False  \n",
      "2      100           1      False  \n"
     ]
    }
   ],
   "source": [
    "# REORDER THE COLUMNS \n",
    "# __________________________\n",
    "\n",
    "# Reorder and change colms to  ['Type 1', 'Type 2', 'Name']\n",
    "# data_frame = data_frame[['Type 1', 'Type 2', 'Name']]\n",
    "# print(data_frame)\n",
    "\n",
    "# Oreder in Format : {'Name', 'Type 1', 'Type 2', 'Speed', 'HP', 'Attack', 'Defense', 'Sp. Def', 'Sp. Atk',\n",
    "#                     'Generation', 'Legendary'}\n",
    "columns = list(data_frame.columns.values)\n",
    "data_frame = data_frame[columns[0:4] + [columns[-1]] +  [columns[-4]] + columns[4:9] + columns[10:12]]\n",
    "print(data_frame.head(3))"
   ]
  },
  {
   "cell_type": "markdown",
   "metadata": {},
   "source": [
    "## SAVING OUR DATA"
   ]
  },
  {
   "cell_type": "code",
   "execution_count": 177,
   "metadata": {},
   "outputs": [],
   "source": [
    "# Save as CSV with delimiter=','\n",
    "data_frame.to_csv('modified.csv', index=False) # index = False (Don't save the  indexes)\n",
    "\n",
    "# Save as xlsx \n",
    "data_frame.to_excel('modified.xlsx', index=False)\n",
    "\n",
    "# Save as CSV with delimiter = '\\t'\n",
    "data_frame.to_csv('modified.txt', index=False, sep='\\t')"
   ]
  },
  {
   "cell_type": "markdown",
   "metadata": {},
   "source": [
    "## FILTERING DATA"
   ]
  },
  {
   "cell_type": "code",
   "execution_count": 183,
   "metadata": {},
   "outputs": [
    {
     "name": "stdout",
     "output_type": "stream",
     "text": [
      "       #                   Name Type 1  Type 2  Total  Speed   HP  Attack  \\\n",
      "274  254               Sceptile  Grass     NaN    530    120   70      85   \n",
      "275  254  SceptileMega Sceptile  Grass  Dragon    630    145   70     110   \n",
      "551  492       ShayminSky Forme  Grass  Flying    600    127  100     103   \n",
      "\n",
      "     Defense  Sp. Atk  Sp. Def  Generation  Legendary  \n",
      "274       65      105       85           3      False  \n",
      "275       75      145       85           3      False  \n",
      "551       75      120       75           4       True  \n"
     ]
    }
   ],
   "source": [
    "# Getting rows which has 'Type 1' = 'Grass' and Speed >= 120\n",
    "\n",
    "# We can use '|' (OR), '~' (not), etc.\n",
    "print(data_frame.loc[(data_frame['Type 1'] == 'Grass') & (data_frame['Speed'] >= 120)])"
   ]
  },
  {
   "cell_type": "code",
   "execution_count": 185,
   "metadata": {},
   "outputs": [
    {
     "name": "stdout",
     "output_type": "stream",
     "text": [
      "   #                       Name Type 1  Type 2  Total  Speed  HP  Attack  \\\n",
      "3  3      VenusaurMega Venusaur  Grass  Poison    625     80  80     100   \n",
      "7  6  CharizardMega Charizard X   Fire  Dragon    634    100  78     130   \n",
      "8  6  CharizardMega Charizard Y   Fire  Flying    634    100  78     104   \n",
      "\n",
      "   Defense  Sp. Atk  Sp. Def  Generation  Legendary  \n",
      "3      123      122      120           1      False  \n",
      "7      111      130       85           1      False  \n",
      "8       78      159      115           1      False  \n"
     ]
    }
   ],
   "source": [
    "# Filter out top three rows whose 'Name' contains 'Mega'\n",
    "\n",
    "print(data_frame.loc[data_frame['Name'].str.contains('Mega')].head(3))"
   ]
  },
  {
   "cell_type": "code",
   "execution_count": 188,
   "metadata": {},
   "outputs": [
    {
     "name": "stdout",
     "output_type": "stream",
     "text": [
      "       #                 Name  Type 1  Type 2  Total  Speed  HP  Attack  \\\n",
      "22    18              Pidgeot  Normal  Flying    479    101  83      80   \n",
      "23    18  PidgeotMega Pidgeot  Normal  Flying    579    121  83      80   \n",
      "137  127    PinsirMega Pinsir     Bug  Flying    600    105  65     155   \n",
      "\n",
      "     Defense  Sp. Atk  Sp. Def  Generation  Legendary  \n",
      "22        75       70       70           1      False  \n",
      "23        80      135       80           1      False  \n",
      "137      120       65       90           1      False  \n"
     ]
    }
   ],
   "source": [
    "# We can also pass REGEX expression to contains()\n",
    "import re\n",
    "\n",
    "# Filter out the rows whose 'Name' begins with Pi and has 'Speed' >= 100\n",
    "print(data_frame.loc[(data_frame['Name'].str.contains('^Pi', regex=True, flags=re.I)) & (data_frame['Speed'] >= 100)])"
   ]
  },
  {
   "cell_type": "markdown",
   "metadata": {},
   "source": [
    "### CONDITONAL CHANGES"
   ]
  },
  {
   "cell_type": "markdown",
   "metadata": {},
   "source": [
    "Changing values based on condition"
   ]
  },
  {
   "cell_type": "code",
   "execution_count": 200,
   "metadata": {},
   "outputs": [],
   "source": [
    "# if 'Type 2' = 'Poison' then, change 'Type 2' to 'Dangerous'\n",
    "data_frame.loc[data_frame['Type 2'] == 'Poison', 'Type 2'] = 'Dangerous'\n",
    "\n",
    "# Changing back\n",
    "data_frame.loc[data_frame['Type 2'] == 'Dangerous', 'Type 2'] = 'Poison'\n",
    "\n",
    "\n",
    "# if 'Type 1' = 'Grass' then, change 'Generation' = 2 & 'Legendary' = 'True'\n",
    "data_frame.loc[data_frame['Type 1'] == 'Grass', ['Generation', 'Legendary']] = [2, True]\n",
    "\n",
    "\n",
    "# Changing back\n",
    "data_frame = pd.read_csv('pokemon_data.csv')"
   ]
  },
  {
   "cell_type": "markdown",
   "metadata": {},
   "source": [
    "## AGGREGATE STATISTICS"
   ]
  },
  {
   "cell_type": "code",
   "execution_count": 222,
   "metadata": {},
   "outputs": [
    {
     "name": "stdout",
     "output_type": "stream",
     "text": [
      "                 #       Total      Speed         HP      Attack     Defense  \\\n",
      "Type 1                                                                         \n",
      "Steel   442.851852  487.703704  55.259259  65.222222   92.703704  126.370370   \n",
      "Rock    392.727273  453.750000  55.909091  65.363636   92.863636  100.795455   \n",
      "Dragon  474.375000  550.531250  83.031250  83.312500  112.125000   86.375000   \n",
      "\n",
      "          Sp. Atk    Sp. Def  Generation  Legendary  \n",
      "Type 1                                               \n",
      "Steel   67.518519  80.629630    3.851852   0.148148  \n",
      "Rock    63.340909  75.477273    3.454545   0.090909  \n",
      "Dragon  96.843750  88.843750    3.875000   0.375000  \n"
     ]
    }
   ],
   "source": [
    "# groupby()\n",
    "# mean()\n",
    "\n",
    "data_frame = pd.read_csv('modified.csv')\n",
    "\n",
    "# print mean of groups grouped by 'Name' \n",
    "# print(data_frame.groupby(['Name']).mean())\n",
    "\n",
    "# print top 3 descendingly sorted rows of 'mean(Attack)'  grouped by 'Type 1'\n",
    "print(data_frame.groupby(['Type 1']).mean().sort_values('Defense', ascending=False).head(3))"
   ]
  },
  {
   "cell_type": "code",
   "execution_count": 226,
   "metadata": {},
   "outputs": [
    {
     "name": "stdout",
     "output_type": "stream",
     "text": [
      "            #  Total  Speed    HP  Attack  Defense  Sp. Atk  Sp. Def  \\\n",
      "Type 1                                                                 \n",
      "Water   33946  48211   7388  8071    8305     8170     8379     7898   \n",
      "Normal  31279  39365   7012  7573    7200     5865     5470     6245   \n",
      "Grass   24141  29480   4335  4709    5125     4956     5425     4930   \n",
      "\n",
      "        Generation  Legendary  \n",
      "Type 1                         \n",
      "Water          320        4.0  \n",
      "Normal         299        2.0  \n",
      "Grass          235        3.0  \n"
     ]
    }
   ],
   "source": [
    "# sum()\n",
    "\n",
    "# print top 3 descendingly ordered rows of 'sum(Total)' grouped by 'Type 1'\n",
    "print(data_frame.groupby('Type 1').sum().sort_values('Total', ascending=False).head(3))"
   ]
  },
  {
   "cell_type": "code",
   "execution_count": 225,
   "metadata": {},
   "outputs": [
    {
     "name": "stdout",
     "output_type": "stream",
     "text": [
      "          #  Name  Type 2  Total  Speed   HP  Attack  Defense  Sp. Atk  \\\n",
      "Type 1                                                                   \n",
      "Water   112   112      53    112    112  112     112      112      112   \n",
      "Normal   98    98      37     98     98   98      98       98       98   \n",
      "Grass    70    70      37     70     70   70      70       70       70   \n",
      "\n",
      "        Sp. Def  Generation  Legendary  \n",
      "Type 1                                  \n",
      "Water       112         112        112  \n",
      "Normal       98          98         98  \n",
      "Grass        70          70         70  \n"
     ]
    }
   ],
   "source": [
    "# count()\n",
    "\n",
    "\n",
    "# print top 3 descendingly ordered rows of 'count(Legendary)' grouped by 'Type 1'\n",
    "print(data_frame.groupby('Type 1').count().sort_values('Legendary', ascending=False).head(3))"
   ]
  },
  {
   "cell_type": "code",
   "execution_count": 232,
   "metadata": {},
   "outputs": [
    {
     "name": "stdout",
     "output_type": "stream",
     "text": [
      "Type 1  Type 2  \n",
      "Bug     Electric     2\n",
      "        Fighting     2\n",
      "        Fire         2\n",
      "        Flying      14\n",
      "        Ghost        1\n",
      "                    ..\n",
      "Water   Ice          3\n",
      "        Poison       3\n",
      "        Psychic      5\n",
      "        Rock         4\n",
      "        Steel        1\n",
      "Name: Legendary, Length: 136, dtype: int64\n"
     ]
    }
   ],
   "source": [
    "# Group by first 'Type 1' then 'Type 2' and print count() of 'Legendary'\n",
    "\n",
    "print(data_frame.groupby(['Type 1', 'Type 2']).count()['Legendary'])"
   ]
  },
  {
   "cell_type": "markdown",
   "metadata": {},
   "source": [
    "## WORKING WITH LARGE  AMOUNT OF DATA"
   ]
  },
  {
   "cell_type": "code",
   "execution_count": 235,
   "metadata": {},
   "outputs": [],
   "source": [
    "# reading 5-rows at a time from a big data-set\n",
    "for df in pd.read_csv('modified.csv', chunksize=5):\n",
    "    pass\n",
    "    #print('5 rows')\n",
    "    #print(df)"
   ]
  }
 ],
 "metadata": {
  "kernelspec": {
   "display_name": "Python 3",
   "language": "python",
   "name": "python3"
  },
  "language_info": {
   "codemirror_mode": {
    "name": "ipython",
    "version": 3
   },
   "file_extension": ".py",
   "mimetype": "text/x-python",
   "name": "python",
   "nbconvert_exporter": "python",
   "pygments_lexer": "ipython3",
   "version": "3.7.6"
  }
 },
 "nbformat": 4,
 "nbformat_minor": 4
}
